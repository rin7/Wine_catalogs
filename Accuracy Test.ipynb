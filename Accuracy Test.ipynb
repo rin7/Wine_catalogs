{
 "cells": [
  {
   "cell_type": "code",
   "execution_count": 109,
   "metadata": {},
   "outputs": [],
   "source": [
    "import editdistance\n",
    "import pandas as pd\n",
    "import numpy as np"
   ]
  },
  {
   "cell_type": "code",
   "execution_count": 110,
   "metadata": {},
   "outputs": [],
   "source": [
    "image_num = '4086'"
   ]
  },
  {
   "cell_type": "code",
   "execution_count": 111,
   "metadata": {},
   "outputs": [],
   "source": [
    "# Test set\n",
    "df_test = pd.read_csv('/Users/tommylee/Desktop/STA 160/Test Sets/df_'+image_num +'.csv')\n",
    "df_test = df_test.applymap(str)"
   ]
  },
  {
   "cell_type": "code",
   "execution_count": 112,
   "metadata": {},
   "outputs": [],
   "source": [
    "# Training set\n",
    "df_truth = pd.read_csv('/Users/tommylee/Desktop/STA 160/Truth Tables/df_'+image_num+'t.csv')\n",
    "df_truth = df_truth.applymap(str)"
   ]
  },
  {
   "cell_type": "code",
   "execution_count": 113,
   "metadata": {},
   "outputs": [],
   "source": [
    "full_list = [] #Edit distance outputs for each cell\n",
    "char_len = [] #Character length for each cell.\n",
    "for i,j in zip(df_test,df_truth):\n",
    "    sublist = []\n",
    "    sublist2 = []\n",
    "    for k,l in zip(range(len(df_test[i].values)),range(len(df_truth[j].values))):\n",
    "        sublist.append(editdistance.eval(df_test[i].values[k],df_truth[j].values[l]))\n",
    "        sublist2.append(len(df_truth[j].values[l]))\n",
    "    char_len.append(sublist2)\n",
    "    full_list.append(sublist)"
   ]
  },
  {
   "cell_type": "code",
   "execution_count": 114,
   "metadata": {},
   "outputs": [],
   "source": [
    "# Get error rates for each cell.\n",
    "final_list =[]\n",
    "for i in range(len(full_list)):\n",
    "    subsies = []\n",
    "    for j in range(len(full_list[i])):\n",
    "        subsies.append(full_list[i][j]/char_len[i][j])\n",
    "    final_list.append(subsies)"
   ]
  },
  {
   "cell_type": "code",
   "execution_count": 115,
   "metadata": {},
   "outputs": [
    {
     "data": {
      "text/html": [
       "<div>\n",
       "<style scoped>\n",
       "    .dataframe tbody tr th:only-of-type {\n",
       "        vertical-align: middle;\n",
       "    }\n",
       "\n",
       "    .dataframe tbody tr th {\n",
       "        vertical-align: top;\n",
       "    }\n",
       "\n",
       "    .dataframe thead th {\n",
       "        text-align: right;\n",
       "    }\n",
       "</style>\n",
       "<table border=\"1\" class=\"dataframe\">\n",
       "  <thead>\n",
       "    <tr style=\"text-align: right;\">\n",
       "      <th></th>\n",
       "      <th>wine_name_error</th>\n",
       "      <th>bottle_price_error</th>\n",
       "      <th>case_price_error</th>\n",
       "    </tr>\n",
       "  </thead>\n",
       "  <tbody>\n",
       "    <tr>\n",
       "      <th>0</th>\n",
       "      <td>0.040816</td>\n",
       "      <td>0.0</td>\n",
       "      <td>0.666667</td>\n",
       "    </tr>\n",
       "    <tr>\n",
       "      <th>1</th>\n",
       "      <td>0.024390</td>\n",
       "      <td>0.0</td>\n",
       "      <td>0.000000</td>\n",
       "    </tr>\n",
       "    <tr>\n",
       "      <th>2</th>\n",
       "      <td>0.104167</td>\n",
       "      <td>1.0</td>\n",
       "      <td>1.333333</td>\n",
       "    </tr>\n",
       "    <tr>\n",
       "      <th>3</th>\n",
       "      <td>0.020408</td>\n",
       "      <td>0.5</td>\n",
       "      <td>1.250000</td>\n",
       "    </tr>\n",
       "    <tr>\n",
       "      <th>4</th>\n",
       "      <td>0.104167</td>\n",
       "      <td>0.5</td>\n",
       "      <td>1.250000</td>\n",
       "    </tr>\n",
       "    <tr>\n",
       "      <th>5</th>\n",
       "      <td>0.000000</td>\n",
       "      <td>1.0</td>\n",
       "      <td>0.750000</td>\n",
       "    </tr>\n",
       "    <tr>\n",
       "      <th>6</th>\n",
       "      <td>0.021739</td>\n",
       "      <td>1.0</td>\n",
       "      <td>1.000000</td>\n",
       "    </tr>\n",
       "    <tr>\n",
       "      <th>7</th>\n",
       "      <td>0.000000</td>\n",
       "      <td>1.0</td>\n",
       "      <td>0.750000</td>\n",
       "    </tr>\n",
       "    <tr>\n",
       "      <th>8</th>\n",
       "      <td>0.000000</td>\n",
       "      <td>1.0</td>\n",
       "      <td>1.000000</td>\n",
       "    </tr>\n",
       "    <tr>\n",
       "      <th>9</th>\n",
       "      <td>0.550725</td>\n",
       "      <td>1.0</td>\n",
       "      <td>1.000000</td>\n",
       "    </tr>\n",
       "    <tr>\n",
       "      <th>10</th>\n",
       "      <td>0.021739</td>\n",
       "      <td>1.0</td>\n",
       "      <td>0.750000</td>\n",
       "    </tr>\n",
       "    <tr>\n",
       "      <th>11</th>\n",
       "      <td>0.111111</td>\n",
       "      <td>1.0</td>\n",
       "      <td>0.750000</td>\n",
       "    </tr>\n",
       "  </tbody>\n",
       "</table>\n",
       "</div>"
      ],
      "text/plain": [
       "    wine_name_error  bottle_price_error  case_price_error\n",
       "0          0.040816                 0.0          0.666667\n",
       "1          0.024390                 0.0          0.000000\n",
       "2          0.104167                 1.0          1.333333\n",
       "3          0.020408                 0.5          1.250000\n",
       "4          0.104167                 0.5          1.250000\n",
       "5          0.000000                 1.0          0.750000\n",
       "6          0.021739                 1.0          1.000000\n",
       "7          0.000000                 1.0          0.750000\n",
       "8          0.000000                 1.0          1.000000\n",
       "9          0.550725                 1.0          1.000000\n",
       "10         0.021739                 1.0          0.750000\n",
       "11         0.111111                 1.0          0.750000"
      ]
     },
     "execution_count": 115,
     "metadata": {},
     "output_type": "execute_result"
    }
   ],
   "source": [
    "# Make into dataframe of error rates\n",
    "a= np.array(final_list).transpose().tolist()\n",
    "b = pd.DataFrame(a,columns =['img_ID_error','wine_name_error','bottle_price_error','case_price_error'])\n",
    "b = b.drop(['img_ID_error'],axis = 1)\n",
    "b.to_csv('df_error_'+image_num+'.csv')\n",
    "b\n"
   ]
  },
  {
   "cell_type": "code",
   "execution_count": 116,
   "metadata": {},
   "outputs": [
    {
     "data": {
      "text/html": [
       "<div>\n",
       "<style scoped>\n",
       "    .dataframe tbody tr th:only-of-type {\n",
       "        vertical-align: middle;\n",
       "    }\n",
       "\n",
       "    .dataframe tbody tr th {\n",
       "        vertical-align: top;\n",
       "    }\n",
       "\n",
       "    .dataframe thead th {\n",
       "        text-align: right;\n",
       "    }\n",
       "</style>\n",
       "<table border=\"1\" class=\"dataframe\">\n",
       "  <thead>\n",
       "    <tr style=\"text-align: right;\">\n",
       "      <th></th>\n",
       "      <th>wine_name_accuracy_average</th>\n",
       "      <th>bottle_price_accuracy_average</th>\n",
       "      <th>case_price_accuracy_average</th>\n",
       "      <th>error_rate</th>\n",
       "    </tr>\n",
       "  </thead>\n",
       "  <tbody>\n",
       "    <tr>\n",
       "      <th>0</th>\n",
       "      <td>0.083272</td>\n",
       "      <td>0.75</td>\n",
       "      <td>0.875</td>\n",
       "      <td>0.569424</td>\n",
       "    </tr>\n",
       "  </tbody>\n",
       "</table>\n",
       "</div>"
      ],
      "text/plain": [
       "   wine_name_accuracy_average  bottle_price_accuracy_average  \\\n",
       "0                    0.083272                           0.75   \n",
       "\n",
       "   case_price_accuracy_average  error_rate  \n",
       "0                        0.875    0.569424  "
      ]
     },
     "execution_count": 116,
     "metadata": {},
     "output_type": "execute_result"
    }
   ],
   "source": [
    "# Get average error rates for each column and the total error rate is the last column \n",
    "col_means = [np.mean(i) for i in final_list]\n",
    "col_means2 = [[np.mean(i)] for i in final_list]\n",
    "c = np.array(col_means2).transpose().tolist()\n",
    "\n",
    "ave = pd.DataFrame(c,columns = ['img_ID_accuracy_average','wine_name_accuracy_average','bottle_price_accuracy_average','case_price_accuracy_average'])\n",
    "error_rate = sum(col_means)/3\n",
    "ave['error_rate'] = error_rate\n",
    "ave = ave.drop(['img_ID_accuracy_average'],axis = 1)\n",
    "ave.to_csv('df_ave_error_'+image_num+'.csv')\n",
    "ave\n"
   ]
  },
  {
   "cell_type": "code",
   "execution_count": null,
   "metadata": {},
   "outputs": [],
   "source": []
  }
 ],
 "metadata": {
  "hide_input": false,
  "kernelspec": {
   "display_name": "Python 3",
   "language": "python",
   "name": "python3"
  },
  "language_info": {
   "codemirror_mode": {
    "name": "ipython",
    "version": 3
   },
   "file_extension": ".py",
   "mimetype": "text/x-python",
   "name": "python",
   "nbconvert_exporter": "python",
   "pygments_lexer": "ipython3",
   "version": "3.6.4"
  }
 },
 "nbformat": 4,
 "nbformat_minor": 2
}

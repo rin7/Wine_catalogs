{
 "cells": [
  {
   "cell_type": "code",
   "execution_count": 2,
   "metadata": {
    "collapsed": true
   },
   "outputs": [],
   "source": [
    "import pytesseract\n",
    "import os\n",
    "from PIL import Image\n",
    "import pandas as pd"
   ]
  },
  {
   "cell_type": "code",
   "execution_count": 3,
   "metadata": {
    "collapsed": true,
    "scrolled": false
   },
   "outputs": [],
   "source": [
    "#print(pytesseract.image_to_string(Image.open(\"/Users/nirvolo/Documents/STA160/Half/UCD_Lehmann_0011.jpg\")))"
   ]
  },
  {
   "cell_type": "code",
   "execution_count": 4,
   "metadata": {
    "collapsed": true
   },
   "outputs": [],
   "source": [
    "import docx\n",
    "\n"
   ]
  },
  {
   "cell_type": "code",
   "execution_count": 5,
   "metadata": {
    "collapsed": true
   },
   "outputs": [],
   "source": [
    "# from docx import Document\n",
    "\n",
    "# document = Document(filename)\n",
    "\n",
    "# #print(document.paragraphs)\n",
    "# for para in document.paragraphs:\n",
    "#     print(para)"
   ]
  },
  {
   "cell_type": "code",
   "execution_count": 6,
   "metadata": {
    "scrolled": true
   },
   "outputs": [
    {
     "data": {
      "text/plain": [
       "str"
      ]
     },
     "execution_count": 6,
     "metadata": {},
     "output_type": "execute_result"
    }
   ],
   "source": [
    "docx_catalogs = \"/Users/nirvolo/Documents/STA160/SampleCatalogFiles_docx\"\n",
    "#text = getText(filename)\n",
    "type(docx_catalogs)\n",
    "# for para in text:\n",
    "#     print(para+'\\n')"
   ]
  },
  {
   "cell_type": "code",
   "execution_count": 7,
   "metadata": {},
   "outputs": [
    {
     "name": "stdout",
     "output_type": "stream",
     "text": [
      "/Users/nirvolo/Documents/STA160/SampleCatalogFiles_docx/Users/nirvolo/Documents/STA160/SampleCatalogFiles_docx\n",
      "\n",
      "/Users/nirvolo/Documents/STA160/SampleCatalogFiles_docx[]\n",
      "\n",
      "/Users/nirvolo/Documents/STA160/SampleCatalogFiles_docx['UCD_Lehmann_0011.docx', 'UCD_Lehmann_0014.docx', 'UCD_Lehmann_0047.docx', 'UCD_Lehmann_0069.docx', 'UCD_Lehmann_0190.docx', 'UCD_Lehmann_0208.docx', 'UCD_Lehmann_0237.docx', 'UCD_Lehmann_0260.docx', 'UCD_Lehmann_0282.docx', 'UCD_Lehmann_0366.docx', 'UCD_Lehmann_0407.docx', 'UCD_Lehmann_0455.docx', 'UCD_Lehmann_0476.docx', 'UCD_Lehmann_0503.docx', 'UCD_Lehmann_0536.docx', 'UCD_Lehmann_0550.docx', 'UCD_Lehmann_0551.docx', 'UCD_Lehmann_0558.docx', 'UCD_Lehmann_0627.docx', 'UCD_Lehmann_0628.docx', 'UCD_Lehmann_0629.docx', 'UCD_Lehmann_0634.docx', 'UCD_Lehmann_0644.docx', 'UCD_Lehmann_0758.docx', 'UCD_Lehmann_0800.docx', 'UCD_Lehmann_0869.docx', 'UCD_Lehmann_0893.docx', 'UCD_Lehmann_0946.docx', 'UCD_Lehmann_0985.docx', 'UCD_Lehmann_1018.docx', 'UCD_Lehmann_1048.docx', 'UCD_Lehmann_1106.docx', 'UCD_Lehmann_1174.docx', 'UCD_Lehmann_1176.docx', 'UCD_Lehmann_1198.docx', 'UCD_Lehmann_1286.docx', 'UCD_Lehmann_1287.docx', 'UCD_Lehmann_1316.docx', 'UCD_Lehmann_1353.docx', 'UCD_Lehmann_1436.docx', 'UCD_Lehmann_1447.docx', 'UCD_Lehmann_1470.docx', 'UCD_Lehmann_1591.docx', 'UCD_Lehmann_1670.docx', 'UCD_Lehmann_1721.docx', 'UCD_Lehmann_1941.docx', 'UCD_Lehmann_1975.docx', 'UCD_Lehmann_1983.docx', 'UCD_Lehmann_1985.docx', 'UCD_Lehmann_2095.docx', 'UCD_Lehmann_2122.docx', 'UCD_Lehmann_2152.docx', 'UCD_Lehmann_2219.docx', 'UCD_Lehmann_2345.docx', 'UCD_Lehmann_2351.docx', 'UCD_Lehmann_2362.docx', 'UCD_Lehmann_2435.docx', 'UCD_Lehmann_2504.docx', 'UCD_Lehmann_2531.docx', 'UCD_Lehmann_2535.docx', 'UCD_Lehmann_2601.docx', 'UCD_Lehmann_2654.docx', 'UCD_Lehmann_2904.docx', 'UCD_Lehmann_2968.docx', 'UCD_Lehmann_3017.docx', 'UCD_Lehmann_3028.docx', 'UCD_Lehmann_3152.docx', 'UCD_Lehmann_3291.docx', 'UCD_Lehmann_3346.docx', 'UCD_Lehmann_3372.docx', 'UCD_Lehmann_3387.docx', 'UCD_Lehmann_3392.docx', 'UCD_Lehmann_3405.docx', 'UCD_Lehmann_3426.docx', 'UCD_Lehmann_3479.docx', 'UCD_Lehmann_3661.docx', 'UCD_Lehmann_3666.docx', 'UCD_Lehmann_3727.docx', 'UCD_Lehmann_3737.docx', 'UCD_Lehmann_3771.docx', 'UCD_Lehmann_3794.docx', 'UCD_Lehmann_3832.docx', 'UCD_Lehmann_3875.docx', 'UCD_Lehmann_4043.docx', 'UCD_Lehmann_4086.docx', '~$D_Lehmann_3727.docx']\n",
      "\n"
     ]
    }
   ],
   "source": [
    "import os\n",
    "\n",
    "for files in os.walk(docx_catalogs):\n",
    "    for file in files:\n",
    "        print(docx_catalogs+str(file)+'\\n')"
   ]
  },
  {
   "cell_type": "code",
   "execution_count": 8,
   "metadata": {},
   "outputs": [],
   "source": [
    "# wine_types = ['Chardonnay','Pinot Noir','Riesling','Merlot','BORDEAUX']\n",
    "# for l in text:\n",
    "#     #print(l)\n",
    "#     for w in wine_types:\n",
    "#         if w in l:\n",
    "#             print(w)"
   ]
  },
  {
   "cell_type": "code",
   "execution_count": 9,
   "metadata": {},
   "outputs": [
    {
     "ename": "UnicodeDecodeError",
     "evalue": "'utf-8' codec can't decode byte 0xce in position 15: invalid continuation byte",
     "output_type": "error",
     "traceback": [
      "\u001b[0;31m---------------------------------------------------------------------------\u001b[0m",
      "\u001b[0;31mUnicodeDecodeError\u001b[0m                        Traceback (most recent call last)",
      "\u001b[0;32m<ipython-input-9-c92a2b965225>\u001b[0m in \u001b[0;36m<module>\u001b[0;34m()\u001b[0m\n\u001b[1;32m      4\u001b[0m \u001b[0;32mfor\u001b[0m \u001b[0mp\u001b[0m \u001b[0;32min\u001b[0m \u001b[0mfiles\u001b[0m\u001b[0;34m:\u001b[0m\u001b[0;34m\u001b[0m\u001b[0m\n\u001b[1;32m      5\u001b[0m     \u001b[0;32mwith\u001b[0m \u001b[0mp\u001b[0m\u001b[0;34m.\u001b[0m\u001b[0mopen\u001b[0m\u001b[0;34m(\u001b[0m\u001b[0;34m)\u001b[0m \u001b[0;32mas\u001b[0m \u001b[0mf\u001b[0m\u001b[0;34m:\u001b[0m\u001b[0;34m\u001b[0m\u001b[0m\n\u001b[0;32m----> 6\u001b[0;31m         \u001b[0;32mfor\u001b[0m \u001b[0mline\u001b[0m \u001b[0;32min\u001b[0m \u001b[0mf\u001b[0m\u001b[0;34m:\u001b[0m\u001b[0;34m\u001b[0m\u001b[0m\n\u001b[0m\u001b[1;32m      7\u001b[0m             \u001b[0;32mif\u001b[0m \u001b[0mre\u001b[0m\u001b[0;34m.\u001b[0m\u001b[0mmatch\u001b[0m\u001b[0;34m(\u001b[0m\u001b[0;34m'(.*)exception(.*)'\u001b[0m\u001b[0;34m,\u001b[0m \u001b[0mf\u001b[0m\u001b[0;34m)\u001b[0m\u001b[0;34m:\u001b[0m\u001b[0;34m\u001b[0m\u001b[0m\n\u001b[1;32m      8\u001b[0m                 \u001b[0mprint\u001b[0m\u001b[0;34m(\u001b[0m\u001b[0mline\u001b[0m\u001b[0;34m)\u001b[0m\u001b[0;34m\u001b[0m\u001b[0m\n",
      "\u001b[0;32m~/anaconda3/lib/python3.6/codecs.py\u001b[0m in \u001b[0;36mdecode\u001b[0;34m(self, input, final)\u001b[0m\n\u001b[1;32m    319\u001b[0m         \u001b[0;31m# decode input (taking the buffer into account)\u001b[0m\u001b[0;34m\u001b[0m\u001b[0;34m\u001b[0m\u001b[0m\n\u001b[1;32m    320\u001b[0m         \u001b[0mdata\u001b[0m \u001b[0;34m=\u001b[0m \u001b[0mself\u001b[0m\u001b[0;34m.\u001b[0m\u001b[0mbuffer\u001b[0m \u001b[0;34m+\u001b[0m \u001b[0minput\u001b[0m\u001b[0;34m\u001b[0m\u001b[0m\n\u001b[0;32m--> 321\u001b[0;31m         \u001b[0;34m(\u001b[0m\u001b[0mresult\u001b[0m\u001b[0;34m,\u001b[0m \u001b[0mconsumed\u001b[0m\u001b[0;34m)\u001b[0m \u001b[0;34m=\u001b[0m \u001b[0mself\u001b[0m\u001b[0;34m.\u001b[0m\u001b[0m_buffer_decode\u001b[0m\u001b[0;34m(\u001b[0m\u001b[0mdata\u001b[0m\u001b[0;34m,\u001b[0m \u001b[0mself\u001b[0m\u001b[0;34m.\u001b[0m\u001b[0merrors\u001b[0m\u001b[0;34m,\u001b[0m \u001b[0mfinal\u001b[0m\u001b[0;34m)\u001b[0m\u001b[0;34m\u001b[0m\u001b[0m\n\u001b[0m\u001b[1;32m    322\u001b[0m         \u001b[0;31m# keep undecoded input until the next call\u001b[0m\u001b[0;34m\u001b[0m\u001b[0;34m\u001b[0m\u001b[0m\n\u001b[1;32m    323\u001b[0m         \u001b[0mself\u001b[0m\u001b[0;34m.\u001b[0m\u001b[0mbuffer\u001b[0m \u001b[0;34m=\u001b[0m \u001b[0mdata\u001b[0m\u001b[0;34m[\u001b[0m\u001b[0mconsumed\u001b[0m\u001b[0;34m:\u001b[0m\u001b[0;34m]\u001b[0m\u001b[0;34m\u001b[0m\u001b[0m\n",
      "\u001b[0;31mUnicodeDecodeError\u001b[0m: 'utf-8' codec can't decode byte 0xce in position 15: invalid continuation byte"
     ]
    }
   ],
   "source": [
    "from pathlib import Path\n",
    "destdir = Path('/Users/nirvolo/Documents/STA160/SampleCatalogFiles_docx')\n",
    "files = [p for p in destdir.iterdir() if p.is_file()]\n",
    "for p in files:\n",
    "    with p.open() as f:\n",
    "        for line in f: \n",
    "            if re.match('(.*)exception(.*)', f):\n",
    "                print(line)"
   ]
  },
  {
   "cell_type": "code",
   "execution_count": 32,
   "metadata": {
    "scrolled": false
   },
   "outputs": [
    {
     "name": "stdout",
     "output_type": "stream",
     "text": [
      "['997', 'MUSCADET,', 'CUVEE', 'BEAUREGARD,', '1967', '2.19', '23.65']\n"
     ]
    },
    {
     "ename": "AttributeError",
     "evalue": "'str' object has no attribute 'append'",
     "output_type": "error",
     "traceback": [
      "\u001b[0;31m---------------------------------------------------------------------------\u001b[0m",
      "\u001b[0;31mAttributeError\u001b[0m                            Traceback (most recent call last)",
      "\u001b[0;32m<ipython-input-32-07eb2542f7f5>\u001b[0m in \u001b[0;36m<module>\u001b[0;34m()\u001b[0m\n\u001b[1;32m     29\u001b[0m             \u001b[0;31m#wine_pd.append(l.split(),ignore_index = True)\u001b[0m\u001b[0;34m\u001b[0m\u001b[0;34m\u001b[0m\u001b[0m\n\u001b[1;32m     30\u001b[0m \u001b[0;34m\u001b[0m\u001b[0m\n\u001b[0;32m---> 31\u001b[0;31m \u001b[0mgetText\u001b[0m\u001b[0;34m(\u001b[0m\u001b[0mfilename\u001b[0m\u001b[0;34m)\u001b[0m\u001b[0;34m\u001b[0m\u001b[0m\n\u001b[0m\u001b[1;32m     32\u001b[0m \u001b[0;34m\u001b[0m\u001b[0m\n\u001b[1;32m     33\u001b[0m \u001b[0;31m# doc = docx.Document(filename)\u001b[0m\u001b[0;34m\u001b[0m\u001b[0;34m\u001b[0m\u001b[0m\n",
      "\u001b[0;32m<ipython-input-32-07eb2542f7f5>\u001b[0m in \u001b[0;36mgetText\u001b[0;34m(filename)\u001b[0m\n\u001b[1;32m     25\u001b[0m             \u001b[0;31m#print(l)\u001b[0m\u001b[0;34m\u001b[0m\u001b[0;34m\u001b[0m\u001b[0m\n\u001b[1;32m     26\u001b[0m             \u001b[0mprint\u001b[0m\u001b[0;34m(\u001b[0m\u001b[0ml\u001b[0m\u001b[0;34m.\u001b[0m\u001b[0msplit\u001b[0m\u001b[0;34m(\u001b[0m\u001b[0;34m)\u001b[0m\u001b[0;34m)\u001b[0m\u001b[0;34m\u001b[0m\u001b[0m\n\u001b[0;32m---> 27\u001b[0;31m             \u001b[0mwine_list\u001b[0m\u001b[0;34m.\u001b[0m\u001b[0mappend\u001b[0m\u001b[0;34m(\u001b[0m\u001b[0ml\u001b[0m\u001b[0;34m.\u001b[0m\u001b[0msplit\u001b[0m\u001b[0;34m(\u001b[0m\u001b[0;34m\"  \"\u001b[0m\u001b[0;34m,\u001b[0m\u001b[0;36m1\u001b[0m\u001b[0;34m)\u001b[0m\u001b[0;34m,\u001b[0m\u001b[0mignore_index\u001b[0m \u001b[0;34m=\u001b[0m \u001b[0;32mTrue\u001b[0m\u001b[0;34m)\u001b[0m\u001b[0;34m\u001b[0m\u001b[0m\n\u001b[0m\u001b[1;32m     28\u001b[0m             \u001b[0;31m#print(wine_list)\u001b[0m\u001b[0;34m\u001b[0m\u001b[0;34m\u001b[0m\u001b[0m\n\u001b[1;32m     29\u001b[0m             \u001b[0;31m#wine_pd.append(l.split(),ignore_index = True)\u001b[0m\u001b[0;34m\u001b[0m\u001b[0;34m\u001b[0m\u001b[0m\n",
      "\u001b[0;31mAttributeError\u001b[0m: 'str' object has no attribute 'append'"
     ]
    }
   ],
   "source": [
    "import re\n",
    "# for l in text:\n",
    "#     print(re.findall(\"\\d+\\.\\d+\", l))\n",
    "\n",
    "filename = \"/Users/nirvolo/Documents/STA160/SampleCatalogFiles_docx/UCD_Lehmann_3727.docx\"\n",
    "fullText = []\n",
    "wine_pd = pd.DataFrame()\n",
    "wine_list = []\n",
    "\n",
    "def getText(filename):\n",
    "    doc = docx.Document(filename)\n",
    "    wine_list = []\n",
    "    for para in doc.paragraphs:\n",
    "        fullText.append(para.text)\n",
    "#    return fullText #'\\n'.join(fullText)\n",
    "    for l in fullText:\n",
    "#         #print(\"1\")\n",
    "#         if l.find(\"..\") != -1:\n",
    "#             print(\"Found '..' in the string.\")\n",
    "#         else:\n",
    "#             print(\"No '..' here!\")\n",
    "        wine_list = l\n",
    "        if re.findall(\"\\d+\\.\\d+\", l) != []:\n",
    "            # try to find a way to detect if a string is a float\n",
    "            #print(l)\n",
    "            print(l.split())\n",
    "            wine_list.append(l.split(\"  \",1),ignore_index = True)\n",
    "            #print(wine_list)\n",
    "            #wine_pd.append(l.split(),ignore_index = True)\n",
    "\n",
    "getText(filename)\n",
    "\n",
    "# doc = docx.Document(filename)\n",
    "# fullText = []\n",
    "# for para in doc.paragraphs:\n",
    "#     fullText.append(para.text)\n",
    "# print(fullText)\n",
    "# wine_list\n",
    "wine_pd"
   ]
  },
  {
   "cell_type": "code",
   "execution_count": null,
   "metadata": {
    "collapsed": true
   },
   "outputs": [],
   "source": [
    "docx_catalogs = \"/Users/nirvolo/Documents/STA160/SampleCatalogFiles_docx\""
   ]
  },
  {
   "cell_type": "code",
   "execution_count": null,
   "metadata": {
    "collapsed": true
   },
   "outputs": [],
   "source": []
  }
 ],
 "metadata": {
  "kernelspec": {
   "display_name": "Python 3",
   "language": "python",
   "name": "python3"
  }
 },
 "nbformat": 4,
 "nbformat_minor": 2
}
